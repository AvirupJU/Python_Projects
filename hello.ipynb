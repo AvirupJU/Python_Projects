{
 "cells": [
  {
   "cell_type": "code",
   "execution_count": 3,
   "metadata": {
    "collapsed": true,
    "pycharm": {
     "is_executing": false
    }
   },
   "outputs": [
    {
     "name": "stdout",
     "text": [
      "4\n"
     ],
     "output_type": "stream"
    }
   ],
   "source": [
    "print(1+3)\n"
   ]
  },
  {
   "cell_type": "code",
   "execution_count": 5,
   "outputs": [
    {
     "name": "stdout",
     "text": [
      "0.49999999999999994\n"
     ],
     "output_type": "stream"
    }
   ],
   "source": [
    "import math\n",
    "print(math.sin(math.pi/6))"
   ],
   "metadata": {
    "collapsed": false,
    "pycharm": {
     "name": "#%%\n",
     "is_executing": false
    }
   }
  },
  {
   "cell_type": "code",
   "execution_count": 4,
   "outputs": [
    {
     "name": "stdout",
     "text": [
      "[[-0.5    0.     0.5  ]\n [ 0.625 -0.25  -0.125]\n [ 0.25   0.5   -0.25 ]] \n\n[[ 65  70 112]\n [ 77  79 119]\n [ 63  70 100]] \n\n[ 1.5   -1.375  1.25 ] \n\n[[ 0.125  -0.5     0.625 ]\n [ 0.3125  0.25   -0.4375]\n [-0.1875  0.25    0.0625]]\n"
     ],
     "output_type": "stream"
    }
   ],
   "source": [
    "import numpy as np\n",
    "a=np.array([[1,2,1],[1,0,2],[3,2,1]])\n",
    "b=np.array([[2,3,1],[1,2,4],[2,1,3]])\n",
    "c=np.array([0,4,3])\n",
    "print(np.linalg.inv(a),\"\\n\")\n",
    "print(np.linalg.matrix_power(b,3),\"\\n\")\n",
    "print(np.linalg.solve(a,c),\"\\n\")\n",
    "print(np.linalg.inv(b))"
   ],
   "metadata": {
    "collapsed": false,
    "pycharm": {
     "name": "#%%\n",
     "is_executing": false
    }
   }
  },
  {
   "cell_type": "code",
   "execution_count": 3,
   "outputs": [
    {
     "data": {
      "text/plain": "50/3",
      "text/latex": "$\\displaystyle \\frac{50}{3}$"
     },
     "metadata": {},
     "output_type": "execute_result",
     "execution_count": 3
    }
   ],
   "source": [
    "#using sympy to integrate\n",
    "from sympy import *\n",
    "\n",
    "x=symbols('x')\n",
    "integrate(x**2+2*x,(x,1,3))\n"
   ],
   "metadata": {
    "collapsed": false,
    "pycharm": {
     "name": "#%%\n",
     "is_executing": false
    }
   }
  },
  {
   "cell_type": "code",
   "execution_count": 24,
   "outputs": [
    {
     "data": {
      "text/plain": "x**3/3 + x**2",
      "text/latex": "$\\displaystyle \\frac{x^{3}}{3} + x^{2}$"
     },
     "metadata": {},
     "output_type": "execute_result",
     "execution_count": 24
    }
   ],
   "source": [
    "integrate(x**2+2*x)"
   ],
   "metadata": {
    "collapsed": false,
    "pycharm": {
     "name": "#%%\n",
     "is_executing": false
    }
   }
  },
  {
   "cell_type": "code",
   "execution_count": 33,
   "outputs": [
    {
     "name": "stdout",
     "text": [
      "f(x)\nEq(-5*f(x) + Derivative(f(x), (x, 2)), 0)\n"
     ],
     "output_type": "stream"
    },
    {
     "data": {
      "text/plain": "           -√5⋅x       √5⋅x\nf(x) = C₁⋅ℯ      + C₂⋅ℯ    ",
      "text/latex": "$\\displaystyle f{\\left(x \\right)} = C_{1} e^{- \\sqrt{5} x} + C_{2} e^{\\sqrt{5} x}$"
     },
     "metadata": {},
     "output_type": "execute_result",
     "execution_count": 33
    }
   ],
   "source": [
    "#using sympy to solve ode\n",
    "from sympy.interactive import printing\n",
    "printing.init_printing(use_latex=True)\n",
    "from sympy import *\n",
    "import sympy as sp\n",
    "\n",
    "f= sp.Function('f')(x)\n",
    "print(f)\n",
    "diffeq = Eq(f.diff(x,2)-5*f,0)\n",
    "\n",
    "print(diffeq)\n",
    "dsolve(diffeq,f)"
   ],
   "metadata": {
    "collapsed": false,
    "pycharm": {
     "name": "#%%\n",
     "is_executing": false
    }
   }
  },
  {
   "cell_type": "code",
   "execution_count": 6,
   "outputs": [
    {
     "data": {
      "text/plain": "<Figure size 432x288 with 1 Axes>",
      "image/png": "[encoded data removed]"
     },
     "metadata": {
      "needs_background": "light"
     },
     "output_type": "display_data"
    }
   ],
   "source": [
    "#using scipy to solve ode\n",
    "from scipy.integrate import odeint\n",
    "import matplotlib.pyplot as plt\n",
    "\n",
    "def model(y,t):\n",
    "    k=0.5\n",
    "    dydt= -k*y\n",
    "    return dydt\n",
    "\n",
    "y0=5\n",
    "t=np.linspace(0,20,100)\n",
    "\n",
    "y = odeint(model,y0,t)\n",
    "\n",
    "plt.plot(t,y)\n",
    "plt.xlabel('time')\n",
    "plt.ylabel('y(t)')\n",
    "plt.show()\n"
   ],
   "metadata": {
    "collapsed": false,
    "pycharm": {
     "name": "#%%\n",
     "is_executing": false
    }
   }
  },
  {
   "cell_type": "code",
   "execution_count": 32,
   "outputs": [
    {
     "data": {
      "text/plain": "<Figure size 432x288 with 1 Axes>",
      "image/png": "[encoded data removed]"
     },
     "metadata": {
      "needs_background": "light"
     },
     "output_type": "display_data"
    }
   ],
   "source": [
    "#HIV spread simulation\n",
    "kr1 = 1e5 #new healthy cells per year\n",
    "kr2 = 0.1 #death rate of healthy cells\n",
    "kr3 = 2e-7 #healthy cells converting to infected cells\n",
    "kr4 = 0.5 #death rate of infected cells\n",
    "kr5 = 5 #death rate of virus\n",
    "kr6 = 100 #production of virus by infected cells\n",
    "def model(z,t):\n",
    "    dhdt = kr1-kr2*z[0]-kr3*z[0]*z[2]\n",
    "    didt=kr3*z[0]*z[2]-kr4*z[1]\n",
    "    dvdt= -kr3*z[0]*z[2]-kr5*z[2]+kr6*z[1]\n",
    "    dzdt = [dhdt,didt,dvdt]\n",
    "    return dzdt\n",
    "\n",
    "z0=[10000000,0,100000]\n",
    "t= np.linspace(0,15)\n",
    "z= odeint(model,z0,t)\n",
    "h= z[:,0] #healthy cells over time\n",
    "i= z[:,1] # infected cells over time\n",
    "v= z[:,2] # virus count over time\n",
    "plt.semilogy(t,h,'g-',label=r'healthy')\n",
    "plt.semilogy(t,i,'r-',label=r'infected')\n",
    "plt.semilogy(t,v,'b-',label=r'virus_count')\n",
    "plt.xlabel('time in years')\n",
    "\n",
    "plt.show()"
   ],
   "metadata": {
    "collapsed": false,
    "pycharm": {
     "name": "#%%\n",
     "is_executing": false
    }
   }
  },
  {
   "cell_type": "code",
   "execution_count": 16,
   "outputs": [
    {
     "data": {
      "text/plain": "<Figure size 432x288 with 1 Axes>",
      "image/png": "[encoded data removed]"
     },
     "metadata": {
      "needs_background": "light"
     },
     "output_type": "display_data"
    }
   ],
   "source": [
    "#Solving a complex Bernoulli's ODE\n",
    "def model(y,t):\n",
    "    dydt = float(t**5*sin(2*t)-t**3+4*t**4 +2*y)/t\n",
    "    return dydt\n",
    "t= np.linspace(0.00001,20,100)\n",
    "y0=np.pi**4*1.5\n",
    "\n",
    "y=odeint(model,y0,t)\n",
    "plt.plot(t,y,'r--')\n",
    "plt.xlabel('time')\n",
    "plt.ylabel('response')\n",
    "plt.show()\n"
   ],
   "metadata": {
    "collapsed": false,
    "pycharm": {
     "name": "#%%\n",
     "is_executing": false
    }
   }
  }
 ],
 "metadata": {
  "language_info": {
   "codemirror_mode": {
    "name": "ipython",
    "version": 2
   },
   "file_extension": ".py",
   "mimetype": "text/x-python",
   "name": "python",
   "nbconvert_exporter": "python",
   "pygments_lexer": "ipython2",
   "version": "2.7.6"
  },
  "kernelspec": {
   "name": "python3",
   "language": "python",
   "display_name": "Python 3"
  },
  "pycharm": {
   "stem_cell": {
    "cell_type": "raw",
    "source": [],
    "metadata": {
     "collapsed": false
    }
   }
  }
 },
 "nbformat": 4,
 "nbformat_minor": 0
}